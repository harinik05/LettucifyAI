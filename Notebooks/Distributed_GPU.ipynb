{
 "cells": [
  {
   "cell_type": "markdown",
   "metadata": {},
   "source": [
    "# Distributed GPU Training Job for PyTorch Image Classification\n",
    "\n",
    "The purpose of this notebook is to provide a technical documentation for a greater accelerated training process. This is done through a methodological approach known as distributed GPU training process. This involves a multi-node multi-gpu pytorch job, wherin MLFlow was used to analyze the metrics.  \n",
    "\n",
    "**Requirements & Dependencies:**\n",
    "1. Provisioned AzureML workspace with Azure subscription\n",
    "2. Appropriate permissions to provision minimal CPU and GPU cluster \n",
    "3. Azure ML Python SDK V2\n"
   ]
  },
  {
   "cell_type": "code",
   "execution_count": null,
   "metadata": {},
   "outputs": [],
   "source": []
  },
  {
   "cell_type": "markdown",
   "metadata": {},
   "source": []
  }
 ],
 "metadata": {
  "language_info": {
   "name": "python"
  }
 },
 "nbformat": 4,
 "nbformat_minor": 2
}
